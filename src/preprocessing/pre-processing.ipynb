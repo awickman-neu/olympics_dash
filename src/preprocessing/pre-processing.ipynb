{
 "cells": [
  {
   "cell_type": "code",
   "execution_count": 11,
   "metadata": {},
   "outputs": [],
   "source": [
    "import pandas as pd\n",
    "import numpy as np \n",
    "import geopandas as gpd\n",
    "\n",
    "from src.standardize_medals import standardize_medal_types"
   ]
  },
  {
   "cell_type": "code",
   "execution_count": 2,
   "metadata": {},
   "outputs": [],
   "source": [
    "#define paths to datasets\n",
    "hosts_path = '../data/raw/olympic_hosts.csv'\n",
    "medals_path = '../data/raw/olympic_medals.csv'\n",
    "results_path = '../data/raw/olympic_results.csv'\n",
    "athletes_path = '../data/raw/athlete_events.csv'\n",
    "\n",
    "#read datasets \n",
    "hosts = pd.read_csv(hosts_path, header = 0)\n",
    "medals = pd.read_csv(medals_path, header = 0)\n",
    "results = pd.read_csv(results_path, header = 0)\n",
    "athletes = pd.read_csv(athletes_path, header = 0)"
   ]
  },
  {
   "cell_type": "code",
   "execution_count": 3,
   "metadata": {},
   "outputs": [
    {
     "name": "stdout",
     "output_type": "stream",
     "text": [
      "game_slug          0\n",
      "game_end_date      0\n",
      "game_start_date    0\n",
      "game_location      0\n",
      "game_name          0\n",
      "game_season        0\n",
      "game_year          0\n",
      "dtype: int64\n",
      "\n",
      "discipline_title             0\n",
      "slug_game                    0\n",
      "event_title                  0\n",
      "event_gender                 0\n",
      "medal_type                   0\n",
      "participant_type             0\n",
      "participant_title        15113\n",
      "athlete_url               4670\n",
      "athlete_full_name         3624\n",
      "country_name                 0\n",
      "country_code              1502\n",
      "country_3_letter_code        0\n",
      "dtype: int64\n",
      "\n",
      "discipline_title              0\n",
      "event_title                   0\n",
      "slug_game                     0\n",
      "participant_type              0\n",
      "medal_type               142598\n",
      "athletes                 154828\n",
      "rank_equal               130278\n",
      "rank_position              3878\n",
      "country_name                  0\n",
      "country_code               5036\n",
      "country_3_letter_code         0\n",
      "athlete_url               32813\n",
      "athlete_full_name         21158\n",
      "value_unit                84158\n",
      "value_type                72755\n",
      "dtype: int64\n",
      "\n",
      "ID             0\n",
      "Name           0\n",
      "Sex            0\n",
      "Age         9474\n",
      "Height     60171\n",
      "Weight     62875\n",
      "Team           0\n",
      "NOC            0\n",
      "Games          0\n",
      "Year           0\n",
      "Season         0\n",
      "City           0\n",
      "Sport          0\n",
      "Event          0\n",
      "Medal     231333\n",
      "dtype: int64\n",
      "\n"
     ]
    },
    {
     "data": {
      "text/plain": [
       "'\\nhosts -> 0 missing values\\nmedals -> missing values in: participant_title, athelete_url/, athlete_full_name, country_code/\\nresults -> missing values in: medal_type, athletes, rank_equal, rank_positiion, country_code/, athelete_url/, athelete_full_name, value_unit, value_type\\nathletes -> missing values in: first_game, athlete_year_birth, athlete_medals, bio            \\n'"
      ]
     },
     "execution_count": 3,
     "metadata": {},
     "output_type": "execute_result"
    }
   ],
   "source": [
    "datasets = [hosts, medals, results, athletes]\n",
    "datasets = [standardize_medal_types(df) for df in datasets]\n",
    "#check for missing values\n",
    "for df in datasets:\n",
    "    missing_values = df.isnull().sum()\n",
    "    print(missing_values)\n",
    "    print()\n",
    "\n",
    "'''\n",
    "hosts -> 0 missing values\n",
    "medals -> missing values in: participant_title, athelete_url/, athlete_full_name, country_code/\n",
    "results -> missing values in: medal_type, athletes, rank_equal, rank_positiion, country_code/, athelete_url/, athelete_full_name, value_unit, value_type\n",
    "athletes -> missing values in: first_game, athlete_year_birth, athlete_medals, bio            \n",
    "'''"
   ]
  },
  {
   "cell_type": "markdown",
   "metadata": {},
   "source": [
    "## Update Country Codes"
   ]
  },
  {
   "cell_type": "code",
   "execution_count": 6,
   "metadata": {},
   "outputs": [],
   "source": [
    "world = gpd.read_file('../data/raw/countries.geojson')\n",
    "mapping_dict = dict(zip(world['ADMIN'], world['ISO_A3']))"
   ]
  },
  {
   "cell_type": "code",
   "execution_count": 7,
   "metadata": {},
   "outputs": [],
   "source": [
    "#MANUAL UPDATES FOR COUNTRIES THAT NO LONGER EXIST \n",
    "update_countries = {\n",
    "    'AHO': 'NLD', #antilles of netherlands \n",
    "    'ISV': 'VIR', #us virgin islands\n",
    "    'TPE': 'CHN', #taipei\n",
    "    'BOH': 'CZE', #bohemia, now czechia\n",
    "    'OAR': 'RUS', #russia, after doping scandal\n",
    "    'FRG': 'DEU', #germany\n",
    "    'IRI': 'IRN', #iran\n",
    "    'SCG': 'SRB', #majority serbian winners\n",
    "    'URS': 'RUS', #drop?\n",
    "    'YUG': 'SRB', #yugoslavia, majority serbian winners\n",
    "    'UAR': 'EGY', #united arab region\n",
    "    'ROC': 'RUS', #russian olympic committee\n",
    "    'BAH': 'BHS', #bahamas\n",
    "    'TCH': 'CZE', #czechoslovakia\n",
    "    'GDR': 'DEU'  \n",
    "}"
   ]
  },
  {
   "cell_type": "code",
   "execution_count": 8,
   "metadata": {},
   "outputs": [],
   "source": [
    "\n",
    "#drop all country columns except for country_3_letter_code\n",
    "for i, df in enumerate(datasets):\n",
    "    if 'country_name' in df.columns:\n",
    "        if 'country_3_letter_code' in df.columns:\n",
    "            #update country codes to current ISO_A3 codes\n",
    "            df['country_3_letter_code'] = df['country_3_letter_code'].map(update_countries).fillna(df['country_3_letter_code'])\n",
    "            mapping_dict = dict(zip(world['ADMIN'], world['ISO_A3']))\n",
    "            df['updated_country_code'] = df['country_name'].map(mapping_dict)\n",
    "            df['country_3_letter_code'] = df['updated_country_code'].fillna(df['country_3_letter_code'])\n",
    "\n",
    "        #drop country name columns and intermediate column\n",
    "        df.drop(columns=['updated_country_code'], inplace=True)\n",
    "        df.drop(columns=['country_name'], inplace=True)\n",
    "    if 'country_code' in df.columns:\n",
    "        df.drop(columns=['country_code'], inplace=True)\n",
    "    #remove all urls \n",
    "    if 'athlete_url' in df.columns:\n",
    "        df.drop(columns = 'athlete_url', inplace = True)\n",
    "    #remove bio column\n",
    "    if 'bio' in df.columns:\n",
    "        df.drop(columns = 'bio', inplace = True)\n",
    "    if 'value_unit' and 'value_type' in df.columns:\n",
    "        df.drop(columns = ['value_unit', 'value_type', 'rank_equal'], inplace = True)\n",
    "    #impute missing values for medal_type \n",
    "    if 'Medal' in df.columns:\n",
    "        df['Medal'].fillna('NONE', inplace=True)\n",
    "    if 'medal_type' in df.columns:\n",
    "        df['medal_type'].fillna('NONE', inplace=True)\n",
    "    \n",
    "    #update list of datasets\n",
    "    datasets[i] = df\n",
    "\n",
    "athletes = datasets[3]\n",
    "results = datasets[2]\n",
    "medals = datasets[1]\n",
    "hosts = datasets[0]\n",
    "#remove results without placement information \n",
    "results = results[(results['rank_position'].notnull()) | (results['medal_type'].isin(['GOLD', 'SILVER', 'BRONZE']))]"
   ]
  },
  {
   "cell_type": "code",
   "execution_count": 9,
   "metadata": {},
   "outputs": [],
   "source": [
    "# change some sport names\n",
    "new_names = {\n",
    "    'Cycling BMX': 'Cycling BMX Racing', #Cycling BMX is called BMX Racing now\n",
    "    'Baseball': 'Baseball/Softball', #Baseball/Softball is the current category \n",
    "    '3x3 Basketball': 'Basketball 3x3', \n",
    "    #only one official discipline cateogry for Equestrian sports \n",
    "    'Equestrian  Vaulting': 'Equestrian',\n",
    "    'Equestrian Dressage': 'Equestrian',\n",
    "    'Equestrian Eventing': 'Equestrian',\n",
    "    'Equestrian Jumping': 'Equestrian',\n",
    "    #renamed sports\n",
    "    'Rugby': 'Rugby Sevens',\n",
    "    'Short Track Speed Skating': 'Short Track',\n",
    "    'Synchronized Swimming': 'Artistic Swimming',\n",
    "    'Trampoline Gymnastics': 'Trampoline'\n",
    "}\n",
    "\n",
    "#sports only featured at one games\n",
    "one_time = ['Basque Pelota', 'Croquet', 'Military Patrol', 'Rackets', 'Roque', 'Water Motorsports']\n",
    "\n",
    "datasets = [hosts, medals, results, athletes]  \n",
    "for i, df in enumerate(datasets):\n",
    "    if 'discipline_title' in df.columns:\n",
    "        df['discipline_title'] = df['discipline_title'].replace(new_names)\n",
    "        #df = df[~df['discipline_title'].isin(one_time)]\n",
    "        datasets[i] = df\n",
    "\n",
    "    if 'participant_type' in df.columns:\n",
    "        df['participant_type'] = df['participant_type'].replace('GameTeam', 'Team')\n",
    "        datasets[i] = df\n",
    "\n",
    "athletes = datasets[3]\n",
    "results = datasets[2]\n",
    "medals = datasets[1]\n",
    "hosts = datasets[0]"
   ]
  },
  {
   "cell_type": "code",
   "execution_count": 10,
   "metadata": {},
   "outputs": [],
   "source": [
    "## JOINING TABLES \n",
    "merged_medals_hosts = medals.merge(hosts, how='left', left_on='slug_game', right_on='game_slug')\n",
    "\n",
    "merge_drop = ['game_slug', 'game_end_date', 'game_start_date', 'slug_game', 'participant_title']\n",
    "merged_medals_hosts.drop(columns = merge_drop, axis=1, inplace = True)"
   ]
  },
  {
   "cell_type": "code",
   "execution_count": 11,
   "metadata": {},
   "outputs": [],
   "source": [
    "## Duplciated medals for team sports \n",
    "\n",
    "#group columns team members have in common\n",
    "aggregated = merged_medals_hosts.groupby(['discipline_title', 'event_title', 'event_gender', 'medal_type', 'participant_type', 'country_3_letter_code', 'game_location', 'game_season', \n",
    "                            'game_year', 'game_name']\n",
    "                            ).size().reset_index(name='medal_count')\n",
    "\n",
    "#drop duplicates \n",
    "medals = aggregated.drop_duplicates(subset=['discipline_title', 'event_title', 'event_gender', 'medal_type', 'country_3_letter_code','game_location', 'game_season', 'game_year', 'game_name'])\n",
    "#drop intermediary column\n",
    "medals = medals.drop(columns = 'medal_count', inplace = False)"
   ]
  },
  {
   "cell_type": "code",
   "execution_count": 12,
   "metadata": {},
   "outputs": [],
   "source": [
    "#save summer and winter games data seperately\n",
    "summer = medals[medals['game_season'] == 'Summer'].reset_index(drop = True)\n",
    "winter = medals[medals['game_season'] == 'Winter'].reset_index(drop = True)\n",
    "\n",
    "for df in (summer, winter):\n",
    "    df.drop(columns = 'game_season', inplace = True)"
   ]
  },
  {
   "cell_type": "code",
   "execution_count": 13,
   "metadata": {},
   "outputs": [],
   "source": [
    "#save a dataframe with complete height and weight data\n",
    "spec_columns = ['Height', 'Weight', 'Age']\n",
    "height_weight_complete = athletes.dropna(subset = spec_columns)\n",
    "athletes_height_weight = pd.DataFrame(height_weight_complete)"
   ]
  },
  {
   "cell_type": "code",
   "execution_count": 14,
   "metadata": {},
   "outputs": [],
   "source": [
    "#drop missing rows of height, weight, age\n",
    "athletes = athletes.drop(columns = spec_columns)"
   ]
  },
  {
   "cell_type": "code",
   "execution_count": 15,
   "metadata": {},
   "outputs": [],
   "source": [
    "#specify directories to save tables\n",
    "merged_path = '../data/derived/medals.csv'\n",
    "cleaned_results_path  = '../data/derived/results.csv'\n",
    "summer_path = '../data/derived/summer_medals.csv'\n",
    "winter_path = '../data/derived/winter_medals.csv'\n",
    "height_weight_path = '../data/derived/athletes_height_weight.csv'\n",
    "athletes_path = '../data/derived/athletes.csv'\n",
    "\n",
    "#save processed tables to derived directory\n",
    "medals.to_csv(merged_path, index=False)\n",
    "results.to_csv(cleaned_results_path, index = False)\n",
    "summer.to_csv(summer_path, index = False)\n",
    "winter.to_csv(winter_path, index = False)\n",
    "athletes_height_weight.to_csv(height_weight_path, index = False)\n",
    "athletes.to_csv(athletes_path, index = False)\n"
   ]
  }
 ],
 "metadata": {
  "kernelspec": {
   "display_name": "Python 3",
   "language": "python",
   "name": "python3"
  },
  "language_info": {
   "codemirror_mode": {
    "name": "ipython",
    "version": 3
   },
   "file_extension": ".py",
   "mimetype": "text/x-python",
   "name": "python",
   "nbconvert_exporter": "python",
   "pygments_lexer": "ipython3",
   "version": "3.9.7"
  }
 },
 "nbformat": 4,
 "nbformat_minor": 2
}
